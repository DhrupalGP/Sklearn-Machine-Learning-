{
 "cells": [
  {
   "cell_type": "code",
   "execution_count": 1,
   "metadata": {},
   "outputs": [],
   "source": [
    "# imoport needed modules\n",
    "import numpy as np\n",
    "import pandas as pd\n",
    "import matplotlib.pyplot as plt\n",
    "from sklearn.model_selection import train_test_split\n",
    "from sklearn.linear_model import LinearRegression\n",
    "from sklearn.metrics import r2_score\n",
    "from sklearn.preprocessing import PolynomialFeatures"
   ]
  },
  {
   "cell_type": "code",
   "execution_count": 2,
   "metadata": {},
   "outputs": [
    {
     "data": {
      "text/plain": [
       "(array([[10],\n",
       "        [15],\n",
       "        [20],\n",
       "        [24],\n",
       "        [30],\n",
       "        [34],\n",
       "        [40],\n",
       "        [45],\n",
       "        [48],\n",
       "        [50]], dtype=int64), array([[115.6],\n",
       "        [157.2],\n",
       "        [189.2],\n",
       "        [220.8],\n",
       "        [253.8],\n",
       "        [269.2],\n",
       "        [284.8],\n",
       "        [285. ],\n",
       "        [277.4],\n",
       "        [269.2]]))"
      ]
     },
     "execution_count": 2,
     "metadata": {},
     "output_type": "execute_result"
    }
   ],
   "source": [
    "# read the file\n",
    "df = pd.read_csv(\"baseballplayer.csv\")\n",
    "    \n",
    "x = df.iloc[:,[0]].values\n",
    "y = df.iloc[:,[1]].values\n",
    "x,y    "
   ]
  },
  {
   "cell_type": "code",
   "execution_count": 3,
   "metadata": {},
   "outputs": [
    {
     "data": {
      "text/plain": [
       "(array([[15],\n",
       "        [40],\n",
       "        [45],\n",
       "        [24],\n",
       "        [10],\n",
       "        [34]], dtype=int64), array([[20],\n",
       "        [48],\n",
       "        [30],\n",
       "        [50]], dtype=int64), array([[157.2],\n",
       "        [284.8],\n",
       "        [285. ],\n",
       "        [220.8],\n",
       "        [115.6],\n",
       "        [269.2]]), array([[189.2],\n",
       "        [277.4],\n",
       "        [253.8],\n",
       "        [269.2]]))"
      ]
     },
     "execution_count": 3,
     "metadata": {},
     "output_type": "execute_result"
    }
   ],
   "source": [
    "# split the data\n",
    "x_train,x_test,y_train,y_test = train_test_split(x,y,test_size=0.4,random_state=0)\n",
    "x_train,x_test,y_train,y_test"
   ]
  },
  {
   "cell_type": "code",
   "execution_count": 4,
   "metadata": {},
   "outputs": [
    {
     "data": {
      "text/plain": [
       "LinearRegression(copy_X=True, fit_intercept=True, n_jobs=None, normalize=False)"
      ]
     },
     "execution_count": 4,
     "metadata": {},
     "output_type": "execute_result"
    }
   ],
   "source": [
    "# train the model\n",
    "poly_reg = PolynomialFeatures(degree=4)\n",
    "    \n",
    "trans_x = poly_reg.fit_transform(x)\n",
    "    \n",
    "regressor = LinearRegression()\n",
    "regressor.fit(trans_x,y)"
   ]
  },
  {
   "cell_type": "code",
   "execution_count": 5,
   "metadata": {},
   "outputs": [
    {
     "data": {
      "text/plain": [
       "array([[115.94625912],\n",
       "       [155.52820591],\n",
       "       [192.2978409 ],\n",
       "       [219.0200092 ],\n",
       "       [252.94488672],\n",
       "       [270.13648647],\n",
       "       [285.01782496],\n",
       "       [284.58520262],\n",
       "       [277.41059089],\n",
       "       [269.31269322]])"
      ]
     },
     "execution_count": 5,
     "metadata": {},
     "output_type": "execute_result"
    }
   ],
   "source": [
    "# predict the values \n",
    "y_pred = regressor.predict(trans_x)\n",
    "y_pred"
   ]
  },
  {
   "cell_type": "code",
   "execution_count": 6,
   "metadata": {},
   "outputs": [
    {
     "data": {
      "text/plain": [
       "0.9994525194073025"
      ]
     },
     "execution_count": 6,
     "metadata": {},
     "output_type": "execute_result"
    }
   ],
   "source": [
    "# r_square value\n",
    "r_square = r2_score(y,y_pred)\n",
    "r_square"
   ]
  },
  {
   "cell_type": "code",
   "execution_count": 7,
   "metadata": {},
   "outputs": [
    {
     "data": {
      "image/png": "[encoded data removed]",
      "text/plain": [
       "<Figure size 432x288 with 1 Axes>"
      ]
     },
     "metadata": {
      "needs_background": "light"
     },
     "output_type": "display_data"
    }
   ],
   "source": [
    "# plot the graph with regression line\n",
    "plt.scatter(x,y,color=\"blue\")\n",
    "plt.plot(x,y_pred,color=\"red\")\n",
    "plt.title(\"Plot of Angle VS Distance\")\n",
    "plt.xlabel(\"Angle at which ball is hitted -->\")\n",
    "plt.ylabel(\"Distance covered by the ball -->\")\n",
    "plt.show()"
   ]
  },
  {
   "cell_type": "code",
   "execution_count": null,
   "metadata": {},
   "outputs": [],
   "source": []
  }
 ],
 "metadata": {
  "kernelspec": {
   "display_name": "Python 3",
   "language": "python",
   "name": "python3"
  },
  "language_info": {
   "codemirror_mode": {
    "name": "ipython",
    "version": 3
   },
   "file_extension": ".py",
   "mimetype": "text/x-python",
   "name": "python",
   "nbconvert_exporter": "python",
   "pygments_lexer": "ipython3",
   "version": "3.7.4"
  }
 },
 "nbformat": 4,
 "nbformat_minor": 2
}
