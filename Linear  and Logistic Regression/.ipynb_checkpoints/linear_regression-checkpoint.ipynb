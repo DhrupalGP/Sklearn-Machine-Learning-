{
 "cells": [
  {
   "cell_type": "code",
   "execution_count": 1,
   "metadata": {},
   "outputs": [],
   "source": [
    "# import modules\n",
    "import pandas as pd\n",
    "import numpy as np\n",
    "import matplotlib.pyplot as plt\n",
    "from sklearn.model_selection import train_test_split\n",
    "from sklearn.linear_model import LinearRegression\n",
    "from sklearn.metrics import r2_score"
   ]
  },
  {
   "cell_type": "code",
   "execution_count": 2,
   "metadata": {},
   "outputs": [
    {
     "data": {
      "text/plain": [
       "(array([ 91,  66,  72,  73,  60,  86,  66,  56,  85,  95,  94, 120,  90,\n",
       "         75, 114, 153,  37, 150,  76, 100,  79,  80,  78], dtype=int64),\n",
       " array([12. ,  7. ,  8. ,  8.1,  7. , 11. ,  7. ,  6. , 11. , 12. , 12. ,\n",
       "        15. , 12. ,  8. , 14. , 19. ,  4. , 19. ,  9. , 13. ,  9.1,  9.3,\n",
       "        13. ]))"
      ]
     },
     "execution_count": 2,
     "metadata": {},
     "output_type": "execute_result"
    }
   ],
   "source": [
    "# read file\n",
    "df = pd.read_csv(\"landprice.csv\")\n",
    "x = df.iloc[:,0].values\n",
    "y = df.iloc[:,1].values\n",
    "x,y"
   ]
  },
  {
   "cell_type": "code",
   "execution_count": 3,
   "metadata": {},
   "outputs": [
    {
     "data": {
      "text/plain": [
       "(array([ 66, 150,  60,  72,  86,  76,  95,  56, 100,  73,  91, 153,  90],\n",
       "       dtype=int64),\n",
       " array([120,  94,  80, 114,  79,  66,  75,  78,  37,  85], dtype=int64),\n",
       " array([ 7. , 19. ,  7. ,  8. , 11. ,  9. , 12. ,  6. , 13. ,  8.1, 12. ,\n",
       "        19. , 12. ]),\n",
       " array([15. , 12. ,  9.3, 14. ,  9.1,  7. ,  8. , 13. ,  4. , 11. ]))"
      ]
     },
     "execution_count": 3,
     "metadata": {},
     "output_type": "execute_result"
    }
   ],
   "source": [
    "#split the data into training and testing data\n",
    "x_train,x_test,y_train,y_test = train_test_split(x,y,test_size=0.4,random_state=0)\n",
    "x_train,x_test,y_train,y_test"
   ]
  },
  {
   "cell_type": "code",
   "execution_count": 5,
   "metadata": {},
   "outputs": [
    {
     "data": {
      "text/plain": [
       "(array([[ 66],\n",
       "        [150],\n",
       "        [ 60],\n",
       "        [ 72],\n",
       "        [ 86],\n",
       "        [ 76],\n",
       "        [ 95],\n",
       "        [ 56],\n",
       "        [100],\n",
       "        [ 73],\n",
       "        [ 91],\n",
       "        [153],\n",
       "        [ 90]], dtype=int64), array([[120],\n",
       "        [ 94],\n",
       "        [ 80],\n",
       "        [114],\n",
       "        [ 79],\n",
       "        [ 66],\n",
       "        [ 75],\n",
       "        [ 78],\n",
       "        [ 37],\n",
       "        [ 85]], dtype=int64), array([[ 7. ],\n",
       "        [19. ],\n",
       "        [ 7. ],\n",
       "        [ 8. ],\n",
       "        [11. ],\n",
       "        [ 9. ],\n",
       "        [12. ],\n",
       "        [ 6. ],\n",
       "        [13. ],\n",
       "        [ 8.1],\n",
       "        [12. ],\n",
       "        [19. ],\n",
       "        [12. ]]), array([[15. ],\n",
       "        [12. ],\n",
       "        [ 9.3],\n",
       "        [14. ],\n",
       "        [ 9.1],\n",
       "        [ 7. ],\n",
       "        [ 8. ],\n",
       "        [13. ],\n",
       "        [ 4. ],\n",
       "        [11. ]]))"
      ]
     },
     "execution_count": 5,
     "metadata": {},
     "output_type": "execute_result"
    }
   ],
   "source": [
    "# reshaping the data for prediction\n",
    "x_train1 = np.reshape(x_train,(-1,1))\n",
    "x_test1 = np.reshape(x_test,(-1,1))\n",
    "y_train1 = np.reshape(y_train,(-1,1))\n",
    "y_test1 = np.reshape(y_test,(-1,1))  \n",
    "\n",
    "x_train1,x_test1,y_train1,y_test1"
   ]
  },
  {
   "cell_type": "code",
   "execution_count": 6,
   "metadata": {},
   "outputs": [
    {
     "data": {
      "text/plain": [
       "LinearRegression(copy_X=True, fit_intercept=True, n_jobs=None, normalize=False)"
      ]
     },
     "execution_count": 6,
     "metadata": {},
     "output_type": "execute_result"
    }
   ],
   "source": [
    "# train the model\n",
    "lin_regressor = LinearRegression()\n",
    "lin_regressor.fit(x_train1,y_train1)    "
   ]
  },
  {
   "cell_type": "code",
   "execution_count": 14,
   "metadata": {},
   "outputs": [
    {
     "data": {
      "image/png": "[encoded data removed]",
      "text/plain": [
       "<Figure size 432x288 with 1 Axes>"
      ]
     },
     "metadata": {
      "needs_background": "light"
     },
     "output_type": "display_data"
    }
   ],
   "source": [
    "# visualize the plots with regression line\n",
    "\n",
    "plt.scatter(x_test1,y_test1,color='blue')\n",
    "plt.plot(x_test1,y_pred,color='red')\n",
    "plt.title('Area VS. Price of the Land')\n",
    "plt.xlabel('Area of land in thousand square feet ->')\n",
    "plt.ylabel('Price of land in Million USD ->')\n",
    "plt.show()"
   ]
  },
  {
   "cell_type": "code",
   "execution_count": 13,
   "metadata": {},
   "outputs": [
    {
     "name": "stdout",
     "output_type": "stream",
     "text": [
      "Prediction on x_test is : [[15.13750793]\n",
      " [11.57659548]\n",
      " [ 9.65918108]\n",
      " [14.31575891]\n",
      " [ 9.52222291]\n",
      " [ 7.74176669]\n",
      " [ 8.97439023]\n",
      " [ 9.38526474]\n",
      " [ 3.76997972]\n",
      " [10.34397194]]\n",
      "Prediction of price of land when Area of land is 32 thousand sqft: 3.0851888640565095 million USD\n"
     ]
    }
   ],
   "source": [
    "# predict the values\n",
    "y_pred = lin_regressor.predict(x_test1) \n",
    "x_pred = np.array([[32]])\n",
    "price_predict = lin_regressor.predict(x_pred)\n",
    "\n",
    "print(f\"Prediction on x_test is : {y_pred}\")\n",
    "print(f\"Prediction of price of land when Area of land is 32 thousand sqft: {price_predict[0][0]} million USD\")"
   ]
  },
  {
   "cell_type": "code",
   "execution_count": 15,
   "metadata": {},
   "outputs": [
    {
     "data": {
      "text/plain": [
       "0.8505174170816574"
      ]
     },
     "execution_count": 15,
     "metadata": {},
     "output_type": "execute_result"
    }
   ],
   "source": [
    "# r_square value is (model prediction is that much of accurate)\n",
    "r_square = r2_score(y_test1,y_pred)\n",
    "r_square"
   ]
  },
  {
   "cell_type": "code",
   "execution_count": null,
   "metadata": {},
   "outputs": [],
   "source": []
  }
 ],
 "metadata": {
  "kernelspec": {
   "display_name": "Python 3",
   "language": "python",
   "name": "python3"
  },
  "language_info": {
   "codemirror_mode": {
    "name": "ipython",
    "version": 3
   },
   "file_extension": ".py",
   "mimetype": "text/x-python",
   "name": "python",
   "nbconvert_exporter": "python",
   "pygments_lexer": "ipython3",
   "version": "3.7.4"
  }
 },
 "nbformat": 4,
 "nbformat_minor": 2
}
