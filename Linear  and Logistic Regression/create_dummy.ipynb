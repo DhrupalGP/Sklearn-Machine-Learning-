{
 "cells": [
  {
   "cell_type": "code",
   "execution_count": 1,
   "metadata": {},
   "outputs": [],
   "source": [
    "import pandas as pd\n",
    "import numpy as np\n",
    "import matplotlib.pyplot as plt\n",
    "from sklearn.model_selection import train_test_split\n",
    "from sklearn.linear_model import LinearRegression\n",
    "from sklearn.metrics import r2_score"
   ]
  },
  {
   "cell_type": "code",
   "execution_count": 8,
   "metadata": {},
   "outputs": [
    {
     "data": {
      "text/plain": [
       "(    Area  Distance  Crime Rate  Interlaken  Jeneva\n",
       " 0     89         4        3.84           0       0\n",
       " 1     66         1        3.19           0       1\n",
       " 2     78         3        3.78           1       0\n",
       " 3    111         6        3.89           0       1\n",
       " 4     44         1        3.57           0       0\n",
       " 5     77         3        3.57           0       0\n",
       " 6     80         3        3.03           1       0\n",
       " 7     66         2        3.51           0       1\n",
       " 8    109         5        3.54           0       0\n",
       " 9     75         3        3.25           0       0\n",
       " 10    85         2        3.31           1       0\n",
       " 11   110         6        3.20           1       0\n",
       " 12    45         1        3.70           0       1\n",
       " 13    79         1        3.21           1       0\n",
       " 14    90         4        3.87           0       1\n",
       " 15    76         2        3.56           0       1\n",
       " 16    81         3        3.21           0       0,     Price\n",
       " 0     7.0\n",
       " 1     5.4\n",
       " 2     6.6\n",
       " 3     7.4\n",
       " 4     4.8\n",
       " 5     6.4\n",
       " 6     7.0\n",
       " 7     5.6\n",
       " 8     7.3\n",
       " 9     6.4\n",
       " 10    6.9\n",
       " 11    7.3\n",
       " 12    4.8\n",
       " 13    6.8\n",
       " 14    7.0\n",
       " 15    6.5\n",
       " 16    7.0)"
      ]
     },
     "execution_count": 8,
     "metadata": {},
     "output_type": "execute_result"
    }
   ],
   "source": [
    "df = pd.read_csv('landprice2.csv')\n",
    "    \n",
    "dummy = pd.get_dummies(df.City).iloc[:,0:2] \n",
    "df = pd.concat([df,dummy],axis=1) # adding a column   \n",
    "df = df.drop(['City'],axis=1) # drop City column\n",
    "    \n",
    "x = df.iloc[:,[0,1,2,4,5]]\n",
    "y = df.iloc[:,[3]]\n",
    "x,y"
   ]
  },
  {
   "cell_type": "code",
   "execution_count": 3,
   "metadata": {},
   "outputs": [],
   "source": [
    "x_train,x_test,y_train,y_test = train_test_split(x,y,test_size=0.4,random_state=0)"
   ]
  },
  {
   "cell_type": "code",
   "execution_count": 4,
   "metadata": {},
   "outputs": [
    {
     "data": {
      "text/plain": [
       "LinearRegression(copy_X=True, fit_intercept=True, n_jobs=None, normalize=False)"
      ]
     },
     "execution_count": 4,
     "metadata": {},
     "output_type": "execute_result"
    }
   ],
   "source": [
    "lin_regressor = LinearRegression()\n",
    "lin_regressor.fit(x_test,y_test)"
   ]
  },
  {
   "cell_type": "code",
   "execution_count": 7,
   "metadata": {},
   "outputs": [
    {
     "data": {
      "text/plain": [
       "array([[5.4       ],\n",
       "       [7.06663267],\n",
       "       [7.36672276],\n",
       "       [6.25613468],\n",
       "       [6.7895802 ],\n",
       "       [4.87714256],\n",
       "       [6.54378713]])"
      ]
     },
     "execution_count": 7,
     "metadata": {},
     "output_type": "execute_result"
    }
   ],
   "source": [
    "y_pred = lin_regressor.predict(x_test) \n",
    "y_pred"
   ]
  },
  {
   "cell_type": "code",
   "execution_count": 6,
   "metadata": {},
   "outputs": [
    {
     "data": {
      "text/plain": [
       "0.9920706504281247"
      ]
     },
     "execution_count": 6,
     "metadata": {},
     "output_type": "execute_result"
    }
   ],
   "source": [
    "r_square = r2_score(y_test,y_pred)\n",
    "r_square"
   ]
  },
  {
   "cell_type": "code",
   "execution_count": null,
   "metadata": {},
   "outputs": [],
   "source": []
  }
 ],
 "metadata": {
  "kernelspec": {
   "display_name": "Python 3",
   "language": "python",
   "name": "python3"
  },
  "language_info": {
   "codemirror_mode": {
    "name": "ipython",
    "version": 3
   },
   "file_extension": ".py",
   "mimetype": "text/x-python",
   "name": "python",
   "nbconvert_exporter": "python",
   "pygments_lexer": "ipython3",
   "version": "3.7.4"
  }
 },
 "nbformat": 4,
 "nbformat_minor": 2
}
