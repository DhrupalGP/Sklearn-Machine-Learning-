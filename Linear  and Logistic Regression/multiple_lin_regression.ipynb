{
 "cells": [
  {
   "cell_type": "code",
   "execution_count": 1,
   "metadata": {},
   "outputs": [],
   "source": [
    "# import modules\n",
    "import pandas as pd\n",
    "import numpy as np\n",
    "import matplotlib.pyplot as plt\n",
    "from sklearn.model_selection import train_test_split\n",
    "from sklearn.linear_model import LinearRegression\n",
    "from sklearn.metrics import r2_score"
   ]
  },
  {
   "cell_type": "code",
   "execution_count": 2,
   "metadata": {},
   "outputs": [
    {
     "data": {
      "text/plain": [
       "(array([[ 89],\n",
       "        [ 66],\n",
       "        [ 78],\n",
       "        [111],\n",
       "        [ 44],\n",
       "        [ 77],\n",
       "        [ 80],\n",
       "        [ 66],\n",
       "        [109],\n",
       "        [ 75],\n",
       "        [ 85],\n",
       "        [110],\n",
       "        [ 45],\n",
       "        [ 79],\n",
       "        [ 90],\n",
       "        [ 76],\n",
       "        [ 81]], dtype=int64), array([[7. ],\n",
       "        [5.4],\n",
       "        [6.6],\n",
       "        [7.4],\n",
       "        [4.8],\n",
       "        [6.4],\n",
       "        [7. ],\n",
       "        [5.6],\n",
       "        [7.3],\n",
       "        [6.4],\n",
       "        [6.9],\n",
       "        [7.3],\n",
       "        [4.8],\n",
       "        [6.8],\n",
       "        [7. ],\n",
       "        [6.5],\n",
       "        [7. ]]))"
      ]
     },
     "execution_count": 2,
     "metadata": {},
     "output_type": "execute_result"
    }
   ],
   "source": [
    "# read file\n",
    "df = pd.read_csv(\"landprice1.csv\")\n",
    "x = df.iloc[:,[0]].values # it includes 0,1,2 columns\n",
    "y = df.iloc[:,[3]].values     \n",
    "x,y"
   ]
  },
  {
   "cell_type": "code",
   "execution_count": 3,
   "metadata": {},
   "outputs": [
    {
     "data": {
      "text/plain": [
       "(array([[ 90],\n",
       "        [ 85],\n",
       "        [ 66],\n",
       "        [ 81],\n",
       "        [110],\n",
       "        [111],\n",
       "        [ 89],\n",
       "        [ 77],\n",
       "        [ 76],\n",
       "        [ 45]], dtype=int64), array([[ 66],\n",
       "        [ 80],\n",
       "        [109],\n",
       "        [ 75],\n",
       "        [ 79],\n",
       "        [ 44],\n",
       "        [ 78]], dtype=int64), array([[7. ],\n",
       "        [6.9],\n",
       "        [5.6],\n",
       "        [7. ],\n",
       "        [7.3],\n",
       "        [7.4],\n",
       "        [7. ],\n",
       "        [6.4],\n",
       "        [6.5],\n",
       "        [4.8]]), array([[5.4],\n",
       "        [7. ],\n",
       "        [7.3],\n",
       "        [6.4],\n",
       "        [6.8],\n",
       "        [4.8],\n",
       "        [6.6]]))"
      ]
     },
     "execution_count": 3,
     "metadata": {},
     "output_type": "execute_result"
    }
   ],
   "source": [
    "#split the data into training and testing data\n",
    "x_train,x_test,y_train,y_test = train_test_split(x,y,test_size=0.4,random_state=0)\n",
    "x_train,x_test,y_train,y_test"
   ]
  },
  {
   "cell_type": "code",
   "execution_count": 5,
   "metadata": {},
   "outputs": [
    {
     "data": {
      "text/plain": [
       "LinearRegression(copy_X=True, fit_intercept=True, n_jobs=None, normalize=False)"
      ]
     },
     "execution_count": 5,
     "metadata": {},
     "output_type": "execute_result"
    }
   ],
   "source": [
    "# train the model\n",
    "lin_regressor = LinearRegression()\n",
    "lin_regressor.fit(x_train,y_train)   "
   ]
  },
  {
   "cell_type": "code",
   "execution_count": 7,
   "metadata": {},
   "outputs": [
    {
     "name": "stdout",
     "output_type": "stream",
     "text": [
      "Prediction on x_test is : [[5.92668224]\n",
      " [6.47294393]\n",
      " [7.60448598]\n",
      " [6.27785047]\n",
      " [6.43392523]\n",
      " [5.06827103]\n",
      " [6.39490654]]\n"
     ]
    }
   ],
   "source": [
    "# predict the values\n",
    "y_pred = lin_regressor.predict(x_test) \n",
    "\n",
    "print(f\"Prediction on x_test is : {y_pred}\")"
   ]
  },
  {
   "cell_type": "code",
   "execution_count": 8,
   "metadata": {},
   "outputs": [
    {
     "data": {
      "image/png": "[encoded data removed]",
      "text/plain": [
       "<Figure size 432x288 with 1 Axes>"
      ]
     },
     "metadata": {
      "needs_background": "light"
     },
     "output_type": "display_data"
    }
   ],
   "source": [
    "# visualize the plots with regression line\n",
    "plt.scatter(x_test,y_test,color=\"blue\")\n",
    "plt.plot(x_test,y_pred,color=\"red\")\n",
    "    \n",
    "plt.title(\"Area VS Price\")\n",
    "plt.xlabel(\"Area of Land in thousand sq. Foot -->\")\n",
    "plt.ylabel(\"Price of Land in Million USD -->\")\n",
    "plt.show()"
   ]
  },
  {
   "cell_type": "code",
   "execution_count": null,
   "metadata": {},
   "outputs": [],
   "source": []
  }
 ],
 "metadata": {
  "kernelspec": {
   "display_name": "Python 3",
   "language": "python",
   "name": "python3"
  },
  "language_info": {
   "codemirror_mode": {
    "name": "ipython",
    "version": 3
   },
   "file_extension": ".py",
   "mimetype": "text/x-python",
   "name": "python",
   "nbconvert_exporter": "python",
   "pygments_lexer": "ipython3",
   "version": "3.7.4"
  }
 },
 "nbformat": 4,
 "nbformat_minor": 2
}
