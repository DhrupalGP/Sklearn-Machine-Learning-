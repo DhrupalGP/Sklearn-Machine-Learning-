{
 "cells": [
  {
   "cell_type": "code",
   "execution_count": 1,
   "metadata": {},
   "outputs": [],
   "source": [
    "# import needed modules\n",
    "import pandas as pd\n",
    "from sklearn.model_selection import train_test_split\n",
    "from sklearn.ensemble import RandomForestRegressor\n",
    "from sklearn.metrics import r2_score"
   ]
  },
  {
   "cell_type": "code",
   "execution_count": 2,
   "metadata": {},
   "outputs": [
    {
     "data": {
      "text/plain": [
       "(array([[2422,    4,   35],\n",
       "        [2130,    3,   39],\n",
       "        [1900,    2,   16],\n",
       "        [3100,    6,   41],\n",
       "        [2700,    4,   36],\n",
       "        [2900,    5,   21],\n",
       "        [3200,    7,   24],\n",
       "        [2800,    3,   36],\n",
       "        [3000,    5,   40],\n",
       "        [3300,    6,   29],\n",
       "        [3150,    6,   25],\n",
       "        [2325,    3,   34],\n",
       "        [2250,    3,   40],\n",
       "        [3330,    7,   31],\n",
       "        [2850,    3,   31]], dtype=int64), array([[32500],\n",
       "        [27000],\n",
       "        [24000],\n",
       "        [44000],\n",
       "        [36000],\n",
       "        [42000],\n",
       "        [51000],\n",
       "        [28000],\n",
       "        [43000],\n",
       "        [47500],\n",
       "        [49000],\n",
       "        [29000],\n",
       "        [29910],\n",
       "        [49900],\n",
       "        [27970]], dtype=int64))"
      ]
     },
     "execution_count": 2,
     "metadata": {},
     "output_type": "execute_result"
    }
   ],
   "source": [
    "# read the file\n",
    "dataset = pd.read_csv(\"HousePrice2.csv\")\n",
    "    \n",
    "X = dataset.iloc[:,0:3].values\n",
    "Y = dataset.iloc[:,[3]].values    \n",
    "X,Y    "
   ]
  },
  {
   "cell_type": "code",
   "execution_count": 3,
   "metadata": {},
   "outputs": [
    {
     "data": {
      "text/plain": [
       "(array([[3150,    6,   25],\n",
       "        [2800,    3,   36],\n",
       "        [2325,    3,   34],\n",
       "        [3100,    6,   41],\n",
       "        [2422,    4,   35],\n",
       "        [2900,    5,   21],\n",
       "        [2250,    3,   40]], dtype=int64), array([[2130,    3,   39],\n",
       "        [3200,    7,   24],\n",
       "        [3000,    5,   40],\n",
       "        [3300,    6,   29],\n",
       "        [2850,    3,   31],\n",
       "        [2700,    4,   36],\n",
       "        [1900,    2,   16],\n",
       "        [3330,    7,   31]], dtype=int64), array([[49000],\n",
       "        [28000],\n",
       "        [29000],\n",
       "        [44000],\n",
       "        [32500],\n",
       "        [42000],\n",
       "        [29910]], dtype=int64), array([[27000],\n",
       "        [51000],\n",
       "        [43000],\n",
       "        [47500],\n",
       "        [27970],\n",
       "        [36000],\n",
       "        [24000],\n",
       "        [49900]], dtype=int64))"
      ]
     },
     "execution_count": 3,
     "metadata": {},
     "output_type": "execute_result"
    }
   ],
   "source": [
    "# split the data\n",
    "X_train,X_test,Y_train,Y_test = train_test_split(X,Y,test_size=0.5,random_state=0)\n",
    "X_train,X_test,Y_train,Y_test "
   ]
  },
  {
   "cell_type": "code",
   "execution_count": 4,
   "metadata": {},
   "outputs": [
    {
     "name": "stderr",
     "output_type": "stream",
     "text": [
      "C:\\ProgramData\\Anaconda3\\lib\\site-packages\\ipykernel_launcher.py:3: DataConversionWarning: A column-vector y was passed when a 1d array was expected. Please change the shape of y to (n_samples,), for example using ravel().\n",
      "  This is separate from the ipykernel package so we can avoid doing imports until\n"
     ]
    },
    {
     "data": {
      "text/plain": [
       "RandomForestRegressor(bootstrap=True, criterion='mse', max_depth=None,\n",
       "                      max_features='auto', max_leaf_nodes=None,\n",
       "                      min_impurity_decrease=0.0, min_impurity_split=None,\n",
       "                      min_samples_leaf=1, min_samples_split=2,\n",
       "                      min_weight_fraction_leaf=0.0, n_estimators=15,\n",
       "                      n_jobs=None, oob_score=False, random_state=None,\n",
       "                      verbose=0, warm_start=False)"
      ]
     },
     "execution_count": 4,
     "metadata": {},
     "output_type": "execute_result"
    }
   ],
   "source": [
    "# train the momdel\n",
    "rf_reg = RandomForestRegressor(n_estimators=15)\n",
    "rf_reg.fit(X_train,Y_train)"
   ]
  },
  {
   "cell_type": "code",
   "execution_count": 5,
   "metadata": {},
   "outputs": [
    {
     "data": {
      "text/plain": [
       "array([30128.        , 45633.33333333, 40827.33333333, 45633.33333333,\n",
       "       30500.        , 31633.33333333, 29509.33333333, 45633.33333333])"
      ]
     },
     "execution_count": 5,
     "metadata": {},
     "output_type": "execute_result"
    }
   ],
   "source": [
    "# predict the values\n",
    "y_pred = rf_reg.predict(X_test) \n",
    "y_pred"
   ]
  },
  {
   "cell_type": "code",
   "execution_count": 6,
   "metadata": {},
   "outputs": [
    {
     "data": {
      "text/plain": [
       "0.8573191116720476"
      ]
     },
     "execution_count": 6,
     "metadata": {},
     "output_type": "execute_result"
    }
   ],
   "source": [
    "# check r_square value\n",
    "r_square = r2_score(Y_test,y_pred)\n",
    "r_square"
   ]
  },
  {
   "cell_type": "code",
   "execution_count": null,
   "metadata": {},
   "outputs": [],
   "source": []
  }
 ],
 "metadata": {
  "kernelspec": {
   "display_name": "Python 3",
   "language": "python",
   "name": "python3"
  },
  "language_info": {
   "codemirror_mode": {
    "name": "ipython",
    "version": 3
   },
   "file_extension": ".py",
   "mimetype": "text/x-python",
   "name": "python",
   "nbconvert_exporter": "python",
   "pygments_lexer": "ipython3",
   "version": "3.7.4"
  }
 },
 "nbformat": 4,
 "nbformat_minor": 2
}
