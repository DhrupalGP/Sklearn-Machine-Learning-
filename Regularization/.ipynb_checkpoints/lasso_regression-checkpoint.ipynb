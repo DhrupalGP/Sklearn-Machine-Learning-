{
 "cells": [
  {
   "cell_type": "code",
   "execution_count": 20,
   "metadata": {},
   "outputs": [],
   "source": [
    "# import needed modules\n",
    "import numpy as np\n",
    "import pandas as pd\n",
    "import matplotlib.pyplot as plt\n",
    "from sklearn.model_selection import train_test_split\n",
    "from sklearn.linear_model import LinearRegression\n",
    "from sklearn.linear_model import Lasso\n",
    "from sklearn.metrics import r2_score"
   ]
  },
  {
   "cell_type": "code",
   "execution_count": 21,
   "metadata": {},
   "outputs": [
    {
     "data": {
      "text/plain": [
       "(array([[170. ],\n",
       "        [169.6],\n",
       "        [168.4],\n",
       "        [162. ],\n",
       "        [163. ],\n",
       "        [169. ],\n",
       "        [162.5],\n",
       "        [169.1],\n",
       "        [169. ],\n",
       "        [163. ]]), array([[60.   ],\n",
       "        [59.1  ],\n",
       "        [58.17 ],\n",
       "        [54.   ],\n",
       "        [55.5  ],\n",
       "        [59.6  ],\n",
       "        [55.25 ],\n",
       "        [58.733],\n",
       "        [58.5  ],\n",
       "        [55.7  ]]))"
      ]
     },
     "execution_count": 21,
     "metadata": {},
     "output_type": "execute_result"
    }
   ],
   "source": [
    "# read the file\n",
    "dataset = pd.read_csv(\"weight.csv\")\n",
    "    \n",
    "x = dataset.iloc[:,[0]].values\n",
    "y = dataset.iloc[:,[1]].values\n",
    "x,y"
   ]
  },
  {
   "cell_type": "code",
   "execution_count": 22,
   "metadata": {},
   "outputs": [
    {
     "data": {
      "text/plain": [
       "(array([[162.],\n",
       "        [170.],\n",
       "        [169.]]), array([[168.4],\n",
       "        [169. ],\n",
       "        [163. ],\n",
       "        [163. ],\n",
       "        [169.6],\n",
       "        [162.5],\n",
       "        [169.1]]), array([[54. ],\n",
       "        [60. ],\n",
       "        [59.6]]), array([[58.17 ],\n",
       "        [58.5  ],\n",
       "        [55.5  ],\n",
       "        [55.7  ],\n",
       "        [59.1  ],\n",
       "        [55.25 ],\n",
       "        [58.733]]))"
      ]
     },
     "execution_count": 22,
     "metadata": {},
     "output_type": "execute_result"
    }
   ],
   "source": [
    "# split the data\n",
    "x_train,x_test,y_train,y_test = train_test_split(x,y,test_size=0.7,random_state=0)\n",
    "x_train,x_test,y_train,y_test"
   ]
  },
  {
   "cell_type": "code",
   "execution_count": 23,
   "metadata": {},
   "outputs": [
    {
     "data": {
      "text/plain": [
       "Lasso(alpha=2, copy_X=True, fit_intercept=True, max_iter=1000, normalize=False,\n",
       "      positive=False, precompute=False, random_state=None, selection='cyclic',\n",
       "      tol=0.0001, warm_start=False)"
      ]
     },
     "execution_count": 23,
     "metadata": {},
     "output_type": "execute_result"
    }
   ],
   "source": [
    "# train your model\n",
    "lasso = Lasso(alpha=2)\n",
    "lasso.fit(x_train,y_train)  "
   ]
  },
  {
   "cell_type": "code",
   "execution_count": 24,
   "metadata": {},
   "outputs": [
    {
     "data": {
      "text/plain": [
       "array([65.80350877])"
      ]
     },
     "execution_count": 24,
     "metadata": {},
     "output_type": "execute_result"
    }
   ],
   "source": [
    "# predict the values\n",
    "y_pred = lasso.predict(x_test)    \n",
    "pred_weight = lasso.predict([[180]])\n",
    "pred_weight    "
   ]
  },
  {
   "cell_type": "code",
   "execution_count": 25,
   "metadata": {},
   "outputs": [
    {
     "data": {
      "text/plain": [
       "0.9401761498008974"
      ]
     },
     "execution_count": 25,
     "metadata": {},
     "output_type": "execute_result"
    }
   ],
   "source": [
    "# r_square value\n",
    "r_sqaure = r2_score(y_test,y_pred)\n",
    "r_sqaure"
   ]
  },
  {
   "cell_type": "code",
   "execution_count": 26,
   "metadata": {},
   "outputs": [
    {
     "data": {
      "image/png": "[encoded data removed]",
      "text/plain": [
       "<Figure size 432x288 with 1 Axes>"
      ]
     },
     "metadata": {
      "needs_background": "light"
     },
     "output_type": "display_data"
    }
   ],
   "source": [
    "# plot of test data and regression line\n",
    "plt.scatter(x_test,y_test,color=\"blue\")\n",
    "plt.title(\"Height Vs. Weight\")\n",
    "plt.xlabel(\"Height in cms.\")\n",
    "plt.ylabel(\"Weight in kgs.\")\n",
    "plt.plot(x_test,lasso.predict(x_test),color=\"red\")\n",
    "plt.show()"
   ]
  },
  {
   "cell_type": "code",
   "execution_count": null,
   "metadata": {},
   "outputs": [],
   "source": []
  }
 ],
 "metadata": {
  "kernelspec": {
   "display_name": "Python 3",
   "language": "python",
   "name": "python3"
  },
  "language_info": {
   "codemirror_mode": {
    "name": "ipython",
    "version": 3
   },
   "file_extension": ".py",
   "mimetype": "text/x-python",
   "name": "python",
   "nbconvert_exporter": "python",
   "pygments_lexer": "ipython3",
   "version": "3.7.4"
  }
 },
 "nbformat": 4,
 "nbformat_minor": 2
}
